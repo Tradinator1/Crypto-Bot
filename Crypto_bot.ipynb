{
  "nbformat": 4,
  "nbformat_minor": 0,
  "metadata": {
    "colab": {
      "provenance": []
    },
    "kernelspec": {
      "name": "python3",
      "display_name": "Python 3"
    },
    "language_info": {
      "name": "python"
    }
  },
  "cells": [
    {
      "cell_type": "markdown",
      "source": [
        "# 🚀 CrewAI Hands-On: Build an AI Career Coach Agent\n",
        "\n",
        "Welcome to this hands-on activity! 🎓\n",
        "\n",
        "Today, we'll build an **AI Career Coach Agent** using [CrewAI](https://github.com/joaomdmoura/crewAI). This agent will suggest exciting career paths for teens based on their interests.\n",
        "\n",
        "By the end of this notebook, you'll:\n",
        "- Understand what an AI agent is\n",
        "- Create a one-agent CrewAI app\n",
        "- See how AI can help with real-life questions"
      ],
      "metadata": {
        "id": "85L8-VSGJcca"
      }
    },
    {
      "cell_type": "markdown",
      "source": [
        "## 📦 Step 1: Install Required Libraries"
      ],
      "metadata": {
        "id": "dhjuL7i_JdjW"
      }
    },
    {
      "cell_type": "code",
      "source": [
        "# INSTALLING LIBRARIES (q to make it quiet and not show unneceassry logs)\n",
        "!pip install langchain_openai crewai openai -q"
      ],
      "metadata": {
        "id": "xZlS-mB1UZQ2",
        "colab": {
          "base_uri": "https://localhost:8080/"
        },
        "outputId": "b8c9ca66-7321-40e1-b927-d9f2d6d28f91"
      },
      "execution_count": 1,
      "outputs": [
        {
          "output_type": "stream",
          "name": "stdout",
          "text": [
            "\u001b[2K     \u001b[90m━━━━━━━━━━━━━━━━━━━━━━━━━━━━━━━━━━━━━━━━\u001b[0m \u001b[32m40.3/40.3 kB\u001b[0m \u001b[31m1.9 MB/s\u001b[0m eta \u001b[36m0:00:00\u001b[0m\n",
            "\u001b[2K     \u001b[90m━━━━━━━━━━━━━━━━━━━━━━━━━━━━━━━━━━━━━━━━\u001b[0m \u001b[32m42.8/42.8 kB\u001b[0m \u001b[31m2.1 MB/s\u001b[0m eta \u001b[36m0:00:00\u001b[0m\n",
            "\u001b[2K     \u001b[90m━━━━━━━━━━━━━━━━━━━━━━━━━━━━━━━━━━━━━━━━\u001b[0m \u001b[32m67.3/67.3 kB\u001b[0m \u001b[31m4.3 MB/s\u001b[0m eta \u001b[36m0:00:00\u001b[0m\n",
            "\u001b[?25h  Installing build dependencies ... \u001b[?25l\u001b[?25hdone\n",
            "  Getting requirements to build wheel ... \u001b[?25l\u001b[?25hdone\n",
            "  Preparing metadata (pyproject.toml) ... \u001b[?25l\u001b[?25hdone\n",
            "\u001b[2K     \u001b[90m━━━━━━━━━━━━━━━━━━━━━━━━━━━━━━━━━━━━━━━━\u001b[0m \u001b[32m48.5/48.5 kB\u001b[0m \u001b[31m3.0 MB/s\u001b[0m eta \u001b[36m0:00:00\u001b[0m\n",
            "\u001b[2K   \u001b[90m━━━━━━━━━━━━━━━━━━━━━━━━━━━━━━━━━━━━━━━━\u001b[0m \u001b[32m70.6/70.6 kB\u001b[0m \u001b[31m4.9 MB/s\u001b[0m eta \u001b[36m0:00:00\u001b[0m\n",
            "\u001b[2K   \u001b[90m━━━━━━━━━━━━━━━━━━━━━━━━━━━━━━━━━━━━━━━━\u001b[0m \u001b[32m366.3/366.3 kB\u001b[0m \u001b[31m11.7 MB/s\u001b[0m eta \u001b[36m0:00:00\u001b[0m\n",
            "\u001b[2K   \u001b[90m━━━━━━━━━━━━━━━━━━━━━━━━━━━━━━━━━━━━━━━━\u001b[0m \u001b[32m8.6/8.6 MB\u001b[0m \u001b[31m82.7 MB/s\u001b[0m eta \u001b[36m0:00:00\u001b[0m\n",
            "\u001b[2K   \u001b[90m━━━━━━━━━━━━━━━━━━━━━━━━━━━━━━━━━━━━━━━━\u001b[0m \u001b[32m16.4/16.4 MB\u001b[0m \u001b[31m86.0 MB/s\u001b[0m eta \u001b[36m0:00:00\u001b[0m\n",
            "\u001b[2K   \u001b[90m━━━━━━━━━━━━━━━━━━━━━━━━━━━━━━━━━━━━━━━━\u001b[0m \u001b[32m19.5/19.5 MB\u001b[0m \u001b[31m66.8 MB/s\u001b[0m eta \u001b[36m0:00:00\u001b[0m\n",
            "\u001b[2K   \u001b[90m━━━━━━━━━━━━━━━━━━━━━━━━━━━━━━━━━━━━━━━━\u001b[0m \u001b[32m119.5/119.5 kB\u001b[0m \u001b[31m1.4 MB/s\u001b[0m eta \u001b[36m0:00:00\u001b[0m\n",
            "\u001b[2K   \u001b[90m━━━━━━━━━━━━━━━━━━━━━━━━━━━━━━━━━━━━━━━━\u001b[0m \u001b[32m65.6/65.6 kB\u001b[0m \u001b[31m4.4 MB/s\u001b[0m eta \u001b[36m0:00:00\u001b[0m\n",
            "\u001b[2K   \u001b[90m━━━━━━━━━━━━━━━━━━━━━━━━━━━━━━━━━━━━━━━━\u001b[0m \u001b[32m72.5/72.5 kB\u001b[0m \u001b[31m5.1 MB/s\u001b[0m eta \u001b[36m0:00:00\u001b[0m\n",
            "\u001b[2K   \u001b[90m━━━━━━━━━━━━━━━━━━━━━━━━━━━━━━━━━━━━━━━━\u001b[0m \u001b[32m119.4/119.4 kB\u001b[0m \u001b[31m7.8 MB/s\u001b[0m eta \u001b[36m0:00:00\u001b[0m\n",
            "\u001b[2K   \u001b[90m━━━━━━━━━━━━━━━━━━━━━━━━━━━━━━━━━━━━━━━━\u001b[0m \u001b[32m201.6/201.6 kB\u001b[0m \u001b[31m12.7 MB/s\u001b[0m eta \u001b[36m0:00:00\u001b[0m\n",
            "\u001b[2K   \u001b[90m━━━━━━━━━━━━━━━━━━━━━━━━━━━━━━━━━━━━━━━━\u001b[0m \u001b[32m60.0/60.0 kB\u001b[0m \u001b[31m4.0 MB/s\u001b[0m eta \u001b[36m0:00:00\u001b[0m\n",
            "\u001b[2K   \u001b[90m━━━━━━━━━━━━━━━━━━━━━━━━━━━━━━━━━━━━━━━━\u001b[0m \u001b[32m5.6/5.6 MB\u001b[0m \u001b[31m81.1 MB/s\u001b[0m eta \u001b[36m0:00:00\u001b[0m\n",
            "\u001b[2K   \u001b[90m━━━━━━━━━━━━━━━━━━━━━━━━━━━━━━━━━━━━━━━━\u001b[0m \u001b[32m756.0/756.0 kB\u001b[0m \u001b[31m39.0 MB/s\u001b[0m eta \u001b[36m0:00:00\u001b[0m\n",
            "\u001b[2K   \u001b[90m━━━━━━━━━━━━━━━━━━━━━━━━━━━━━━━━━━━━━━━━\u001b[0m \u001b[32m236.0/236.0 kB\u001b[0m \u001b[31m15.1 MB/s\u001b[0m eta \u001b[36m0:00:00\u001b[0m\n",
            "\u001b[2K   \u001b[90m━━━━━━━━━━━━━━━━━━━━━━━━━━━━━━━━━━━━━━━━\u001b[0m \u001b[32m18.7/18.7 MB\u001b[0m \u001b[31m78.5 MB/s\u001b[0m eta \u001b[36m0:00:00\u001b[0m\n",
            "\u001b[2K   \u001b[90m━━━━━━━━━━━━━━━━━━━━━━━━━━━━━━━━━━━━━━━━\u001b[0m \u001b[32m284.2/284.2 kB\u001b[0m \u001b[31m17.5 MB/s\u001b[0m eta \u001b[36m0:00:00\u001b[0m\n",
            "\u001b[2K   \u001b[90m━━━━━━━━━━━━━━━━━━━━━━━━━━━━━━━━━━━━━━━━\u001b[0m \u001b[32m45.5/45.5 kB\u001b[0m \u001b[31m2.7 MB/s\u001b[0m eta \u001b[36m0:00:00\u001b[0m\n",
            "\u001b[2K   \u001b[90m━━━━━━━━━━━━━━━━━━━━━━━━━━━━━━━━━━━━━━━━\u001b[0m \u001b[32m1.9/1.9 MB\u001b[0m \u001b[31m62.9 MB/s\u001b[0m eta \u001b[36m0:00:00\u001b[0m\n",
            "\u001b[2K   \u001b[90m━━━━━━━━━━━━━━━━━━━━━━━━━━━━━━━━━━━━━━━━\u001b[0m \u001b[32m101.6/101.6 kB\u001b[0m \u001b[31m6.3 MB/s\u001b[0m eta \u001b[36m0:00:00\u001b[0m\n",
            "\u001b[2K   \u001b[90m━━━━━━━━━━━━━━━━━━━━━━━━━━━━━━━━━━━━━━━━\u001b[0m \u001b[32m105.4/105.4 kB\u001b[0m \u001b[31m7.4 MB/s\u001b[0m eta \u001b[36m0:00:00\u001b[0m\n",
            "\u001b[2K   \u001b[90m━━━━━━━━━━━━━━━━━━━━━━━━━━━━━━━━━━━━━━━━\u001b[0m \u001b[32m71.4/71.4 kB\u001b[0m \u001b[31m5.1 MB/s\u001b[0m eta \u001b[36m0:00:00\u001b[0m\n",
            "\u001b[2K   \u001b[90m━━━━━━━━━━━━━━━━━━━━━━━━━━━━━━━━━━━━━━━━\u001b[0m \u001b[32m2.8/2.8 MB\u001b[0m \u001b[31m84.6 MB/s\u001b[0m eta \u001b[36m0:00:00\u001b[0m\n",
            "\u001b[2K   \u001b[90m━━━━━━━━━━━━━━━━━━━━━━━━━━━━━━━━━━━━━━━━\u001b[0m \u001b[32m46.0/46.0 kB\u001b[0m \u001b[31m3.0 MB/s\u001b[0m eta \u001b[36m0:00:00\u001b[0m\n",
            "\u001b[2K   \u001b[90m━━━━━━━━━━━━━━━━━━━━━━━━━━━━━━━━━━━━━━━━\u001b[0m \u001b[32m459.8/459.8 kB\u001b[0m \u001b[31m26.4 MB/s\u001b[0m eta \u001b[36m0:00:00\u001b[0m\n",
            "\u001b[2K   \u001b[90m━━━━━━━━━━━━━━━━━━━━━━━━━━━━━━━━━━━━━━━━\u001b[0m \u001b[32m86.8/86.8 kB\u001b[0m \u001b[31m6.1 MB/s\u001b[0m eta \u001b[36m0:00:00\u001b[0m\n",
            "\u001b[2K   \u001b[90m━━━━━━━━━━━━━━━━━━━━━━━━━━━━━━━━━━━━━━━━\u001b[0m \u001b[32m1.6/1.6 MB\u001b[0m \u001b[31m55.9 MB/s\u001b[0m eta \u001b[36m0:00:00\u001b[0m\n",
            "\u001b[2K   \u001b[90m━━━━━━━━━━━━━━━━━━━━━━━━━━━━━━━━━━━━━━━━\u001b[0m \u001b[32m4.0/4.0 MB\u001b[0m \u001b[31m66.9 MB/s\u001b[0m eta \u001b[36m0:00:00\u001b[0m\n",
            "\u001b[2K   \u001b[90m━━━━━━━━━━━━━━━━━━━━━━━━━━━━━━━━━━━━━━━━\u001b[0m \u001b[32m453.1/453.1 kB\u001b[0m \u001b[31m27.9 MB/s\u001b[0m eta \u001b[36m0:00:00\u001b[0m\n",
            "\u001b[?25h  Building wheel for pypika (pyproject.toml) ... \u001b[?25l\u001b[?25hdone\n"
          ]
        }
      ]
    },
    {
      "cell_type": "markdown",
      "source": [
        "## 🧠 Step 2: Import Python Libraries"
      ],
      "metadata": {
        "id": "haKK3FzeJhrV"
      }
    },
    {
      "cell_type": "code",
      "source": [
        "from crewai import Agent,Task,Crew\n",
        "from langchain_openai import ChatOpenAI"
      ],
      "metadata": {
        "id": "4BAQWRJJUaKZ"
      },
      "execution_count": 2,
      "outputs": []
    },
    {
      "cell_type": "markdown",
      "source": [
        "## 🔐 Step 3: Add Your OpenAI API Key"
      ],
      "metadata": {
        "id": "hzRz-Qa8JmM8"
      }
    },
    {
      "cell_type": "code",
      "source": [
        "import os\n",
        "os.environ[\"OPENAI_API_KEY\"] = \"XXX\""
      ],
      "metadata": {
        "id": "hSPYrwP8Ua4M"
      },
      "execution_count": 3,
      "outputs": []
    },
    {
      "cell_type": "markdown",
      "source": [
        "## 🤖 Step 4: Initialize the Language Model"
      ],
      "metadata": {
        "id": "_6wwzzq3JtFT"
      }
    },
    {
      "cell_type": "code",
      "source": [
        "llm = ChatOpenAI(model_name=\"gpt-4o-mini\",temperature=0.4)"
      ],
      "metadata": {
        "id": "h4xefddiUbuU"
      },
      "execution_count": 4,
      "outputs": []
    },
    {
      "cell_type": "markdown",
      "source": [
        "## 🧑‍🏫 Step 5: Define the AI Career Coach Agent"
      ],
      "metadata": {
        "id": "mq42wmzvJvei"
      }
    },
    {
      "cell_type": "code",
      "source": [
        "# career coach\n",
        "crypto_fundamentalanalyser = Agent(\n",
        "    role=\"crypto fundamental-analyser\",\n",
        "    goal=\"Analyse the current crypto asked by the user and perform fundamental analysis on that specific coin.\",\n",
        "    backstory=\"You are a calm and straightforward market analyser that gives fundamental information about cryptocurrencies..\",\n",
        "    llm = llm\n",
        ")\n",
        "\n",
        "crypto_technicalanalyser = Agent(\n",
        "    role=\"crypto technical-analyser\",\n",
        "    goal=\"Analyse the current crypto chart and perform technical analysis on that specific coin asked about by the user . do that using indicators, market trends\",\n",
        "    backstory=\"You are a calm and straightforward market analyser that gives technical information about cryptocurrencies...\",\n",
        "    llm = llm\n",
        ")\n",
        "\n",
        "supervisor =Agent(\n",
        "    role=\"final opinion\",\n",
        "    goal=\"Review the work of all the agents and compile it into a complete final mesage for the user on whether they should buy that speicific coin or not.\",\n",
        "    backstory=\"You're the wise team leader who combines the advice into a single, clear, helpful report\",\n",
        "    llm = llm\n",
        ")\n"
      ],
      "metadata": {
        "id": "rVF8eXivUcpP"
      },
      "execution_count": 5,
      "outputs": []
    },
    {
      "cell_type": "markdown",
      "source": [
        "## 📝 Step 6: Create a Task for the Agent\n",
        "Let’s ask the agent to suggest a career path based on a student's interest."
      ],
      "metadata": {
        "id": "4DplqArNJz4p"
      }
    },
    {
      "cell_type": "code",
      "source": [
        "interest = input(\"what cryptocurrency are you thinking about: \")\n",
        "task1 = Task(\n",
        "    description=\"\"\"suggest a modern opinion for the user insterest in '{interest}'. Explain the fundamental conditions about this cryptocurrency.\"\"\",\n",
        "    expected_output=\"a suggestion, a reason it fits, and one actionable tip for the market.\",\n",
        "    agent=crypto_fundamentalanalyser\n",
        ")\n",
        "task2 = Task(\n",
        "    description='suggest a modern opinion for the user insterest in {interest}. Explain the technical conditions about this cryptocurrency.',\n",
        "    expected_output='a suggestion, a reason it fits, and one actionable tip for the market..',\n",
        "    agent=crypto_technicalanalyser,\n",
        "    depends_on=[task1]\n",
        ")\n",
        "\n",
        "task4 = Task(\n",
        "    description='Take the output from all tasks and write a final message for the user: buy or sell, fundamental analysis, technical analysis and other info',\n",
        "    expected_output='Final 5-6 line message with all the outputs combined. do not recommend a coin, analyse the coin asked about from the company',\n",
        "    agent = supervisor,\n",
        "    depends_on=[task1,task2]\n",
        ")"
      ],
      "metadata": {
        "id": "_rRNnxvNUd4Y",
        "colab": {
          "base_uri": "https://localhost:8080/"
        },
        "outputId": "7e2f4fa4-c738-4627-873c-8e925e2a0372"
      },
      "execution_count": 8,
      "outputs": [
        {
          "name": "stdout",
          "output_type": "stream",
          "text": [
            "what cryptocurrency are you thinking about: solana\n"
          ]
        }
      ]
    },
    {
      "cell_type": "markdown",
      "source": [
        "## 🚀 Step 7: Run the Agent and Get Career Advice"
      ],
      "metadata": {
        "id": "LZepPt8uJ3L1"
      }
    },
    {
      "cell_type": "code",
      "source": [
        "crew = Crew(\n",
        "    agents=[crypto_fundamentalanalyser,crypto_technicalanalyser,supervisor],\n",
        "    tasks=[task1,task2,task4]\n",
        ")\n",
        "\n",
        "result = crew.kickoff()         # kickoff = run the agent in this library\n",
        "print(\"Final opinion:\\n\", result)"
      ],
      "metadata": {
        "id": "9f5sbf5vUej4",
        "colab": {
          "base_uri": "https://localhost:8080/"
        },
        "outputId": "9772d4bf-133e-4a22-f177-987ba6160e4a"
      },
      "execution_count": 7,
      "outputs": [
        {
          "output_type": "stream",
          "name": "stdout",
          "text": [
            "Final opinion:\n",
            " Based on the comprehensive analysis of Ethereum (ETH), it is advisable to consider its strong potential for growth, particularly in the DeFi and NFT sectors, as it remains the leading smart contract platform. The transition to Ethereum 2.0 is a significant fundamental driver, enhancing scalability and sustainability, which is likely to attract more developers and users. Technically, ETH shows bullish momentum, trading above the 50-day moving average, although the RSI indicates it may be nearing overbought conditions. Staying informed about network upgrades and market sentiment is crucial, and looking for entry points during potential short-term corrections could provide advantageous opportunities for investment. Overall, while Ethereum presents promising prospects, careful monitoring of market conditions and developments is essential before making a buying decision.\n"
          ]
        }
      ]
    },
    {
      "cell_type": "code",
      "source": [],
      "metadata": {
        "id": "P-HAgh7C-W5e"
      },
      "execution_count": 7,
      "outputs": []
    }
  ]
}